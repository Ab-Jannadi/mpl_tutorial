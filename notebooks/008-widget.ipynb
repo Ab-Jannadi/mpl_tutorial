{
 "cells": [
  {
   "cell_type": "markdown",
   "metadata": {},
   "source": [
    "# Interactive figures\n",
    "\n",
    "In addition to the static figures we have been working with, Matplotlib can produce interactive figures.  For use on a desktop there are bindings to produces figures using the Tk, Gtk, Wx, and Qt frameworks.   These can be used as stand-alone windows are embedded in large applications, see [the gallery](https://matplotlib.org/gallery/#embedding-matplotlib-in-graphical-user-interfaces) for details.\n",
    "\n",
    "There are two backends to work with IPython/Jupyter notebook:\n",
    "\n",
    " - NBAgg which ships with Matplotlib\n",
    " - ipympl which is an additional package\n",
    " \n",
    "NBAgg only works in the classic IPython notebook but not in Jupyter lab (because the way it works is by injecting a fair amount of javascript into the DOM which is a security hole).  ipympl is built on top of the `ipywidgets` framework and requires a jupyterlab extension to be installed in addition to the python module.\n",
    " \n",
    "If you are in the classic notebook\n",
    " \n",
    " ```python\n",
    "%matplotlib notebook\n",
    "```\n",
    "\n",
    "will enable NBAgg.  In either the classic notebook or jupyter lab\n",
    "\n",
    "```python\n",
    "%matplotlib widget\n",
    "```\n",
    "\n",
    "will enable ipympl."
   ]
  },
  {
   "cell_type": "code",
   "execution_count": 2,
   "metadata": {},
   "outputs": [],
   "source": [
    "%matplotlib widget\n",
    "import matplotlib.pyplot as plt"
   ]
  },
  {
   "cell_type": "code",
   "execution_count": 3,
   "metadata": {},
   "outputs": [
    {
     "data": {
      "application/vnd.jupyter.widget-view+json": {
       "model_id": "f9ab1c95fe3446289ed04dfda766b5aa",
       "version_major": 2,
       "version_minor": 0
      },
      "text/plain": [
       "Canvas(toolbar=Toolbar(toolitems=[('Home', 'Reset original view', 'home', 'home'), ('Back', 'Back to previous …"
      ]
     },
     "metadata": {},
     "output_type": "display_data"
    },
    {
     "data": {
      "text/plain": [
       "[<matplotlib.lines.Line2D at 0x7fdced624550>]"
      ]
     },
     "execution_count": 3,
     "metadata": {},
     "output_type": "execute_result"
    }
   ],
   "source": [
    "fig, ax = plt.subplots()\n",
    "ax.plot(range(52))"
   ]
  },
  {
   "cell_type": "markdown",
   "metadata": {},
   "source": [
    "You should now have an interactive figure that you can pan / zoom around on just like on the desktop.  Matplotlib is using a client-server model for the display, user input is sent from the Jupyter front-end back to Matplotlib running in your kernel and the kernel ships the rendered png to the browser.  This has he advantages that the plots will look identical to using `inline` or the desktop backends and we do not need to ship all of your data to the browser.  However, this approach has will have higher latency than an in-browser plotting library (such as bokeh or plotly)."
   ]
  },
  {
   "cell_type": "markdown",
   "metadata": {},
   "source": [
    "## print statements in callbacks\n",
    "\n",
    "Any print statements in user-callbacks will not be naively shown in the notebook (because it is not clear _where_ they should be shown; in a terminal they are printed to stdout of which there is only one, in a notebook there are many output cells, any of which may be the correct place to print).  For convince in the next few notebooks we have provided a helper to make sure that the print statements will be associated with an output area under the `Figure`."
   ]
  },
  {
   "cell_type": "code",
   "execution_count": 5,
   "metadata": {},
   "outputs": [],
   "source": [
    "%run helpers/ensure_print.py"
   ]
  },
  {
   "cell_type": "markdown",
   "metadata": {},
   "source": [
    "Understanding this code is not required for this tutorial.  We are discussing how to solve this in a cleaner way [at ipympl](https://github.com/matplotlib/jupyter-matplotlib/issues/116)."
   ]
  },
  {
   "cell_type": "code",
   "execution_count": null,
   "metadata": {},
   "outputs": [],
   "source": []
  }
 ],
 "metadata": {
  "kernelspec": {
   "display_name": "Python 3",
   "language": "python",
   "name": "python3"
  },
  "language_info": {
   "codemirror_mode": {
    "name": "ipython",
    "version": 3
   },
   "file_extension": ".py",
   "mimetype": "text/x-python",
   "name": "python",
   "nbconvert_exporter": "python",
   "pygments_lexer": "ipython3",
   "version": "3.9.0a0"
  }
 },
 "nbformat": 4,
 "nbformat_minor": 4
}
