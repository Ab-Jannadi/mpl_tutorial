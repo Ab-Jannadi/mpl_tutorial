{
 "cells": [
  {
   "cell_type": "code",
   "execution_count": 4,
   "metadata": {},
   "outputs": [],
   "source": [
    "%matplotlib widget\n",
    "# make sure prints in callbacks make it to the notebook\n",
    "\n",
    "# See https://ipywidgets.readthedocs.io/en/stable/examples/Output%20Widget.html\n",
    "\n",
    "# By default, calling `print` in a ipywidgets callback results in the output\n",
    "# being lost (because it is not clear _where_ it should go).  You can explictily\n",
    "# capture that the text to a given output area using at Output widget.\n",
    "\n",
    "# This is a wrapper for `plt.subplots` that makes sure\n",
    "#   a) an ipywidgets.widgets.Output is created with each Figure\n",
    "#   b) the `mpl_connect` on the canvas is monkey-patched such that all\n",
    "#      user callbacks run in a context where the stdout is captured and sent\n",
    "#      to that output area.\n",
    "import matplotlib.pyplot as plt\n",
    "import functools\n",
    "@functools.wraps(plt.figure)\n",
    "def figure(*args, **kwargs):\n",
    "    from IPython.display import display\n",
    "    import ipywidgets as widgets\n",
    "    import weakref\n",
    "    import functools\n",
    "    \n",
    "    fig  = figure._figure(*args, **kwargs)\n",
    "    fig._output = output = widgets.Output()\n",
    "    display(output)\n",
    "    \n",
    "    orig_mpl_connect = fig.canvas.mpl_connect\n",
    "    \n",
    "    @functools.wraps(orig_mpl_connect)\n",
    "    def mpl_connect(key, cb, **kwargs):\n",
    "        # try to use a WeakMethod to make sure we don't keep objects alive\n",
    "        # to match the behavior of the base mpl_connect\n",
    "        try:\n",
    "            r = weakref.WeakMethod(cb)\n",
    "        except TypeError:\n",
    "            r = lambda: cb\n",
    "        def wrapper(*args, **kw):\n",
    "            cb = r()\n",
    "              \n",
    "            with output:\n",
    "                if cb is not None:\n",
    "                    cb(*args, **kw)\n",
    "                \n",
    "        orig_mpl_connect(key, wrapper, **kwargs)\n",
    "    \n",
    "    # mokeny patch the canvas \n",
    "    fig.canvas.mpl_connect = mpl_connect\n",
    "    return fig\n",
    "figure._figure = plt.figure\n",
    "# monkey patch pyplot (!?)\n",
    "plt.figure = figure"
   ]
  },
  {
   "cell_type": "code",
   "execution_count": 5,
   "metadata": {},
   "outputs": [],
   "source": [
    "import seaborn as sns\n",
    "mpg = sns.load_dataset('mpg')"
   ]
  },
  {
   "cell_type": "code",
   "execution_count": 6,
   "metadata": {},
   "outputs": [
    {
     "data": {
      "application/vnd.jupyter.widget-view+json": {
       "model_id": "773841637cdc4ae7b8fa171c9c954cfa",
       "version_major": 2,
       "version_minor": 0
      },
      "text/plain": [
       "Canvas(toolbar=Toolbar(toolitems=[('Home', 'Reset original view', 'home', 'home'), ('Back', 'Back to previous …"
      ]
     },
     "metadata": {},
     "output_type": "display_data"
    },
    {
     "data": {
      "application/vnd.jupyter.widget-view+json": {
       "model_id": "e47eb92dbc4d4634b8117d6fd9593e1a",
       "version_major": 2,
       "version_minor": 0
      },
      "text/plain": [
       "Output()"
      ]
     },
     "metadata": {},
     "output_type": "display_data"
    }
   ],
   "source": [
    "import matplotlib.widgets as mwidgets\n",
    "import numpy as np\n",
    "def make_slider(fig, data): \n",
    "    x_data = 'model_year' \n",
    "    y_data = 'acceleration' \n",
    "    c_data = 'horsepower' \n",
    "    s_data = 'displacement' \n",
    "     \n",
    "    h_data = 'mpg' \n",
    "    ax1, ax2 = fig.subplots(2, 1) \n",
    "    hist = ax2.hist(h_data, data=data, bins='auto') \n",
    "    ax2.set_xlabel(h_data) \n",
    "    ax2.set_ylabel('N') \n",
    "    range_label = ax2.annotate('', (1, 1), \n",
    "                               ha='right', va='top', \n",
    "                               xycoords='axes fraction', \n",
    "                               xytext=(-4, -4), \n",
    "                               textcoords='offset points') \n",
    " \n",
    "    sc = ax1.scatter(x_data, y_data, c=c_data, s=s_data, data=data, \n",
    "                     alpha=.5, linewidth=3) \n",
    "    ax1.set_xlabel(x_data) \n",
    "    ax1.set_ylabel(y_data) \n",
    "    # produce a legend with the unique colors from the scatter \n",
    "    legend1 = ax1.legend(*sc.legend_elements(), \n",
    "                    loc=\"upper left\", title=c_data,  \n",
    "                   ncol=3) \n",
    "    ax1.add_artist(legend1) \n",
    "     # produce a legend with a cross section of sizes from the scatter \n",
    "    handles, labels = sc.legend_elements(prop=\"sizes\", alpha=0.6) \n",
    "    legend2 = ax1.legend(handles, labels, loc=\"lower right\", title=s_data, ncol=3) \n",
    "         \n",
    "    base_ec = None \n",
    "    def mark_markers(low, high): \n",
    "        nonlocal base_ec \n",
    "        if base_ec is None: \n",
    "            base_ec = sc.get_edgecolors() \n",
    "        ec = np.array(base_ec) \n",
    "        mask = (low < data[h_data]) & (data[h_data] < high) \n",
    "        mask = mask.values \n",
    "        ec[mask, :] = [1, 0, 0, 1] \n",
    "        sc.set_edgecolor(ec) \n",
    "        range_label.set_text(f'showing {low:.2f} < {h_data} < {high:.2f}')\n",
    "        fig.canvas.draw_idle()\n",
    "         \n",
    "    slider = mwidgets.SpanSelector(ax2, mark_markers, 'horizontal', useblit=True, span_stays=True) \n",
    "    return slider \n",
    " \n",
    "s = make_slider(figure(figsize=(16, 8)), mpg)"
   ]
  },
  {
   "cell_type": "code",
   "execution_count": 7,
   "metadata": {},
   "outputs": [
    {
     "data": {
      "application/vnd.jupyter.widget-view+json": {
       "model_id": "afb47ade8289417fb931d6ad8b1aa289",
       "version_major": 2,
       "version_minor": 0
      },
      "text/plain": [
       "Canvas(toolbar=Toolbar(toolitems=[('Home', 'Reset original view', 'home', 'home'), ('Back', 'Back to previous …"
      ]
     },
     "metadata": {},
     "output_type": "display_data"
    },
    {
     "data": {
      "application/vnd.jupyter.widget-view+json": {
       "model_id": "54893f1d0da74814a7727fd093e56da4",
       "version_major": 2,
       "version_minor": 0
      },
      "text/plain": [
       "Output()"
      ]
     },
     "metadata": {},
     "output_type": "display_data"
    }
   ],
   "source": [
    "import matplotlib.pyplot as plt\n",
    "from itertools import cycle\n",
    "\n",
    "\n",
    "class LineMaker:\n",
    "    def __init__(self, ln):\n",
    "        # stash the current data\n",
    "        self.xdata = list(ln.get_xdata())\n",
    "        self.ydata = list(ln.get_ydata())\n",
    "        # stash the Line2D artist\n",
    "        self.ln = ln\n",
    "        self.color_cyle = cycle(['#1f77b4', '#ff7f0e', '#2ca02c', '#d62728',\n",
    "                                 '#9467bd', '#8c564b', '#e377c2', '#7f7f7f',\n",
    "                                 '#bcbd22', '#17becf'])\n",
    "        self.button_cid = ln.figure.canvas.mpl_connect('button_press_event',\n",
    "                                                       self.on_button)\n",
    "        self.key_cid = ln.figure.canvas.mpl_connect('key_press_event',\n",
    "                                                    self.on_key)\n",
    "\n",
    "    def on_button(self, event):\n",
    "        # only consider events from the lines Axes\n",
    "        if event.inaxes is not self.ln.axes:\n",
    "            return\n",
    "\n",
    "        # if not the left mouse button or a modifier key\n",
    "        # is held down, bail\n",
    "        if event.button != 1 or event.key is not None:\n",
    "            print('key+button: {!r}+{!r}'.format(event.key, event.button))\n",
    "            return\n",
    "\n",
    "        # get the event location in data-space\n",
    "        self.xdata.append(event.xdata)\n",
    "        self.ydata.append(event.ydata)\n",
    "\n",
    "        # update the artist data\n",
    "        self.ln.set_data(self.xdata, self.ydata)\n",
    "\n",
    "        # ask the GUI to re-draw the next time it can\n",
    "        self.ln.figure.canvas.draw_idle()\n",
    "\n",
    "    def on_key(self, event):\n",
    "        # This is _super_ useful for debugging!\n",
    "        # print(event.key)\n",
    "\n",
    "        # if the key is c (any case)\n",
    "        if event.key.lower() == 'c':\n",
    "            # change the color\n",
    "            self.ln.set_color(next(self.color_cyle))\n",
    "\n",
    "            # ask the GUI to re-draw the next time it can\n",
    "            self.ln.figure.canvas.draw_idle()\n",
    "\n",
    "\n",
    "fig = figure()\n",
    "ax = fig.subplots()\n",
    "ln, = ax.plot([], [], '-o')\n",
    "line_maker = LineMaker(ln)\n"
   ]
  },
  {
   "cell_type": "code",
   "execution_count": null,
   "metadata": {},
   "outputs": [],
   "source": []
  },
  {
   "cell_type": "code",
   "execution_count": null,
   "metadata": {},
   "outputs": [],
   "source": []
  }
 ],
 "metadata": {
  "kernelspec": {
   "display_name": "Python 3",
   "language": "python",
   "name": "python3"
  },
  "language_info": {
   "codemirror_mode": {
    "name": "ipython",
    "version": 3
   },
   "file_extension": ".py",
   "mimetype": "text/x-python",
   "name": "python",
   "nbconvert_exporter": "python",
   "pygments_lexer": "ipython3",
   "version": "3.9.0a0"
  }
 },
 "nbformat": 4,
 "nbformat_minor": 4
}
