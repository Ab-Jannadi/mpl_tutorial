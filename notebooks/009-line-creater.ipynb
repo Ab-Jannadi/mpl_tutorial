{
 "cells": [
  {
   "cell_type": "markdown",
   "metadata": {},
   "source": [
    "# Collecting user input"
   ]
  },
  {
   "cell_type": "code",
   "execution_count": 1,
   "metadata": {},
   "outputs": [],
   "source": [
    "%matplotlib widget\n",
    "%run helpers/ensure_print.py"
   ]
  },
  {
   "cell_type": "code",
   "execution_count": 5,
   "metadata": {},
   "outputs": [
    {
     "data": {
      "application/vnd.jupyter.widget-view+json": {
       "model_id": "99173f4df1294b92bab8afd4fa6045b9",
       "version_major": 2,
       "version_minor": 0
      },
      "text/plain": [
       "Canvas(toolbar=Toolbar(toolitems=[('Home', 'Reset original view', 'home', 'home'), ('Back', 'Back to previous …"
      ]
     },
     "metadata": {},
     "output_type": "display_data"
    },
    {
     "data": {
      "application/vnd.jupyter.widget-view+json": {
       "model_id": "5ca3cadc59a34e5c944025ef0780b335",
       "version_major": 2,
       "version_minor": 0
      },
      "text/plain": [
       "Output()"
      ]
     },
     "metadata": {},
     "output_type": "display_data"
    }
   ],
   "source": [
    "\n",
    "import matplotlib.pyplot as plt\n",
    "from itertools import cycle\n",
    "\n",
    "\n",
    "class LineMaker:\n",
    "    def __init__(self, ln):\n",
    "        # stash the current data\n",
    "        self.xdata = list(ln.get_xdata())\n",
    "        self.ydata = list(ln.get_ydata())\n",
    "        # stash the Line2D artist\n",
    "        self.ln = ln\n",
    "        self.color_cyle = cycle(['#1f77b4', '#ff7f0e', '#2ca02c', '#d62728',\n",
    "                                 '#9467bd', '#8c564b', '#e377c2', '#7f7f7f',\n",
    "                                 '#bcbd22', '#17becf'])\n",
    "        self.button_cid = ln.figure.canvas.mpl_connect('button_press_event',\n",
    "                                                       self.on_button)\n",
    "        self.key_cid = ln.figure.canvas.mpl_connect('key_press_event',\n",
    "                                                    self.on_key)\n",
    "\n",
    "    def on_button(self, event):\n",
    "        # only consider events from the lines Axes\n",
    "        if event.inaxes is not self.ln.axes:\n",
    "            return\n",
    "        # print(f'key: {event.key} button: {event.button}')\n",
    "        # if not the left mouse button or a modifier key\n",
    "        # is held down, bail\n",
    "        if event.button != 1 or event.key is not None:\n",
    "            print('key+button: {!r}+{!r}'.format(event.key, event.button))\n",
    "            return\n",
    "\n",
    "        # get the event location in data-space\n",
    "        self.xdata.append(event.xdata)\n",
    "        self.ydata.append(event.ydata)\n",
    "\n",
    "        # update the artist data\n",
    "        self.ln.set_data(self.xdata, self.ydata)\n",
    "\n",
    "        # ask the GUI to re-draw the next time it can\n",
    "        self.ln.figure.canvas.draw_idle()\n",
    "\n",
    "    def on_key(self, event):\n",
    "        # This is _super_ useful for debugging!\n",
    "        # print(f'key: {event.key}')\n",
    "\n",
    "        # if the key is c (any case)\n",
    "        if event.key.lower() == 'c':\n",
    "            # change the color\n",
    "            self.ln.set_color(next(self.color_cyle))\n",
    "\n",
    "            # ask the GUI to re-draw the next time it can\n",
    "            self.ln.figure.canvas.draw_idle()\n",
    "\n",
    "\n",
    "fig = plt.figure()\n",
    "ax = fig.subplots()\n",
    "ln, = ax.plot([1], [1], '-o')\n",
    "line_maker = LineMaker(ln)"
   ]
  },
  {
   "cell_type": "code",
   "execution_count": 6,
   "metadata": {},
   "outputs": [
    {
     "data": {
      "text/plain": [
       "<function matplotlib.pyplot.figure(num=None, figsize=None, dpi=None, facecolor=None, edgecolor=None, frameon=True, FigureClass=<class 'matplotlib.figure.Figure'>, clear=False, **kwargs)>"
      ]
     },
     "execution_count": 6,
     "metadata": {},
     "output_type": "execute_result"
    }
   ],
   "source": [
    "plt.figure._figure"
   ]
  },
  {
   "cell_type": "code",
   "execution_count": 7,
   "metadata": {},
   "outputs": [
    {
     "data": {
      "application/vnd.jupyter.widget-view+json": {
       "model_id": "072e68ca577a42068aa1df78f6363501",
       "version_major": 2,
       "version_minor": 0
      },
      "text/plain": [
       "Output()"
      ]
     },
     "metadata": {},
     "output_type": "display_data"
    }
   ],
   "source": [
    "fig._output"
   ]
  },
  {
   "cell_type": "code",
   "execution_count": null,
   "metadata": {},
   "outputs": [],
   "source": []
  }
 ],
 "metadata": {
  "kernelspec": {
   "display_name": "Python 3",
   "language": "python",
   "name": "python3"
  },
  "language_info": {
   "codemirror_mode": {
    "name": "ipython",
    "version": 3
   },
   "file_extension": ".py",
   "mimetype": "text/x-python",
   "name": "python",
   "nbconvert_exporter": "python",
   "pygments_lexer": "ipython3",
   "version": "3.9.0a0"
  }
 },
 "nbformat": 4,
 "nbformat_minor": 4
}
